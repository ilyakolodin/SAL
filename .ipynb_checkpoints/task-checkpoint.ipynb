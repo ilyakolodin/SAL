{
 "cells": [
  {
   "cell_type": "code",
   "execution_count": 1,
   "metadata": {},
   "outputs": [],
   "source": [
    "import pandas as pd\n",
    "import numpy as np"
   ]
  },
  {
   "cell_type": "code",
   "execution_count": 2,
   "metadata": {
    "scrolled": false
   },
   "outputs": [],
   "source": [
    "df = pd.read_csv('hours_to_project.csv')\n",
    "df['dt'] =  pd.to_datetime(df['dt'])"
   ]
  },
  {
   "cell_type": "code",
   "execution_count": 3,
   "metadata": {},
   "outputs": [],
   "source": [
    "df['index'] = df.index"
   ]
  },
  {
   "cell_type": "code",
   "execution_count": 4,
   "metadata": {},
   "outputs": [
    {
     "data": {
      "text/html": [
       "<div>\n",
       "<style scoped>\n",
       "    .dataframe tbody tr th:only-of-type {\n",
       "        vertical-align: middle;\n",
       "    }\n",
       "\n",
       "    .dataframe tbody tr th {\n",
       "        vertical-align: top;\n",
       "    }\n",
       "\n",
       "    .dataframe thead th {\n",
       "        text-align: right;\n",
       "    }\n",
       "</style>\n",
       "<table border=\"1\" class=\"dataframe\">\n",
       "  <thead>\n",
       "    <tr style=\"text-align: right;\">\n",
       "      <th></th>\n",
       "      <th>day</th>\n",
       "      <th>project_id</th>\n",
       "      <th>executive_id</th>\n",
       "      <th>hours</th>\n",
       "      <th>dt</th>\n",
       "      <th>index</th>\n",
       "    </tr>\n",
       "  </thead>\n",
       "  <tbody>\n",
       "    <tr>\n",
       "      <th>0</th>\n",
       "      <td>2019-01-09</td>\n",
       "      <td>3016816</td>\n",
       "      <td>6472966665163348977</td>\n",
       "      <td>4</td>\n",
       "      <td>2019-01-11 18:50:19</td>\n",
       "      <td>0</td>\n",
       "    </tr>\n",
       "    <tr>\n",
       "      <th>1</th>\n",
       "      <td>2019-01-10</td>\n",
       "      <td>3016816</td>\n",
       "      <td>6472966665163348977</td>\n",
       "      <td>4</td>\n",
       "      <td>2019-01-11 18:50:19</td>\n",
       "      <td>1</td>\n",
       "    </tr>\n",
       "    <tr>\n",
       "      <th>2</th>\n",
       "      <td>2019-01-11</td>\n",
       "      <td>3016816</td>\n",
       "      <td>6472966665163348977</td>\n",
       "      <td>4</td>\n",
       "      <td>2019-01-11 18:50:19</td>\n",
       "      <td>2</td>\n",
       "    </tr>\n",
       "    <tr>\n",
       "      <th>3</th>\n",
       "      <td>2019-01-14</td>\n",
       "      <td>3016816</td>\n",
       "      <td>6472966665163348977</td>\n",
       "      <td>4</td>\n",
       "      <td>2019-01-11 18:50:24</td>\n",
       "      <td>3</td>\n",
       "    </tr>\n",
       "    <tr>\n",
       "      <th>4</th>\n",
       "      <td>2019-01-15</td>\n",
       "      <td>3016816</td>\n",
       "      <td>6472966665163348977</td>\n",
       "      <td>4</td>\n",
       "      <td>2019-01-11 18:50:24</td>\n",
       "      <td>4</td>\n",
       "    </tr>\n",
       "  </tbody>\n",
       "</table>\n",
       "</div>"
      ],
      "text/plain": [
       "          day  project_id         executive_id  hours                  dt  \\\n",
       "0  2019-01-09     3016816  6472966665163348977      4 2019-01-11 18:50:19   \n",
       "1  2019-01-10     3016816  6472966665163348977      4 2019-01-11 18:50:19   \n",
       "2  2019-01-11     3016816  6472966665163348977      4 2019-01-11 18:50:19   \n",
       "3  2019-01-14     3016816  6472966665163348977      4 2019-01-11 18:50:24   \n",
       "4  2019-01-15     3016816  6472966665163348977      4 2019-01-11 18:50:24   \n",
       "\n",
       "   index  \n",
       "0      0  \n",
       "1      1  \n",
       "2      2  \n",
       "3      3  \n",
       "4      4  "
      ]
     },
     "execution_count": 4,
     "metadata": {},
     "output_type": "execute_result"
    }
   ],
   "source": [
    "df.head()"
   ]
  },
  {
   "cell_type": "markdown",
   "metadata": {},
   "source": [
    "### Чистим данные"
   ]
  },
  {
   "cell_type": "markdown",
   "metadata": {},
   "source": [
    "разбиваем на две группы. с нулевыми и не нулевыми часами"
   ]
  },
  {
   "cell_type": "code",
   "execution_count": 5,
   "metadata": {},
   "outputs": [],
   "source": [
    "zero_hours = df[df['hours']==0]\n",
    "df = df[df['hours']!=0]"
   ]
  },
  {
   "cell_type": "markdown",
   "metadata": {},
   "source": [
    "Делаем группировку и находим накопленную сумму в каждой группе затем фильтруем чтобы в день работы было меньше 8 часов"
   ]
  },
  {
   "cell_type": "code",
   "execution_count": 6,
   "metadata": {
    "scrolled": false
   },
   "outputs": [
    {
     "data": {
      "text/html": [
       "<div>\n",
       "<style scoped>\n",
       "    .dataframe tbody tr th:only-of-type {\n",
       "        vertical-align: middle;\n",
       "    }\n",
       "\n",
       "    .dataframe tbody tr th {\n",
       "        vertical-align: top;\n",
       "    }\n",
       "\n",
       "    .dataframe thead th {\n",
       "        text-align: right;\n",
       "    }\n",
       "</style>\n",
       "<table border=\"1\" class=\"dataframe\">\n",
       "  <thead>\n",
       "    <tr style=\"text-align: right;\">\n",
       "      <th></th>\n",
       "      <th></th>\n",
       "      <th></th>\n",
       "      <th></th>\n",
       "      <th>project_id</th>\n",
       "      <th>hours</th>\n",
       "    </tr>\n",
       "    <tr>\n",
       "      <th>day</th>\n",
       "      <th>executive_id</th>\n",
       "      <th>index</th>\n",
       "      <th>dt</th>\n",
       "      <th></th>\n",
       "      <th></th>\n",
       "    </tr>\n",
       "  </thead>\n",
       "  <tbody>\n",
       "    <tr>\n",
       "      <th>2019-01-07</th>\n",
       "      <th>6171384064617043520</th>\n",
       "      <th>2790</th>\n",
       "      <th>2019-01-22 00:04:01</th>\n",
       "      <td>3016575</td>\n",
       "      <td>4</td>\n",
       "    </tr>\n",
       "    <tr>\n",
       "      <th rowspan=\"4\" valign=\"top\">2019-01-09</th>\n",
       "      <th>4444406782469255273</th>\n",
       "      <th>1320</th>\n",
       "      <th>2018-12-26 15:49:08</th>\n",
       "      <td>3015977</td>\n",
       "      <td>4</td>\n",
       "    </tr>\n",
       "    <tr>\n",
       "      <th rowspan=\"3\" valign=\"top\">4451437494373826323</th>\n",
       "      <th>1160</th>\n",
       "      <th>2018-12-26 15:17:01</th>\n",
       "      <td>3016987</td>\n",
       "      <td>1</td>\n",
       "    </tr>\n",
       "    <tr>\n",
       "      <th>1177</th>\n",
       "      <th>2018-12-26 15:17:52</th>\n",
       "      <td>6033817</td>\n",
       "      <td>2</td>\n",
       "    </tr>\n",
       "    <tr>\n",
       "      <th>1195</th>\n",
       "      <th>2018-12-26 15:21:26</th>\n",
       "      <td>9050221</td>\n",
       "      <td>3</td>\n",
       "    </tr>\n",
       "    <tr>\n",
       "      <th>...</th>\n",
       "      <th>...</th>\n",
       "      <th>...</th>\n",
       "      <th>...</th>\n",
       "      <td>...</td>\n",
       "      <td>...</td>\n",
       "    </tr>\n",
       "    <tr>\n",
       "      <th>2019-11-29</th>\n",
       "      <th>5656997469620366329</th>\n",
       "      <th>39709</th>\n",
       "      <th>2019-11-22 10:00:10</th>\n",
       "      <td>6037030</td>\n",
       "      <td>8</td>\n",
       "    </tr>\n",
       "    <tr>\n",
       "      <th rowspan=\"2\" valign=\"top\">2019-12-02</th>\n",
       "      <th rowspan=\"2\" valign=\"top\">6761362779808018437</th>\n",
       "      <th>48137</th>\n",
       "      <th>2019-11-28 16:08:25</th>\n",
       "      <td>3017923</td>\n",
       "      <td>4</td>\n",
       "    </tr>\n",
       "    <tr>\n",
       "      <th>48253</th>\n",
       "      <th>2019-11-28 16:48:37</th>\n",
       "      <td>6036384</td>\n",
       "      <td>8</td>\n",
       "    </tr>\n",
       "    <tr>\n",
       "      <th rowspan=\"2\" valign=\"top\">2019-12-03</th>\n",
       "      <th rowspan=\"2\" valign=\"top\">6763228741234674346</th>\n",
       "      <th>48519</th>\n",
       "      <th>2019-12-02 19:24:21</th>\n",
       "      <td>3018492</td>\n",
       "      <td>2</td>\n",
       "    </tr>\n",
       "    <tr>\n",
       "      <th>48523</th>\n",
       "      <th>2019-12-03 13:43:30</th>\n",
       "      <td>6037020</td>\n",
       "      <td>5</td>\n",
       "    </tr>\n",
       "  </tbody>\n",
       "</table>\n",
       "<p>273 rows × 2 columns</p>\n",
       "</div>"
      ],
      "text/plain": [
       "                                                          project_id  hours\n",
       "day        executive_id        index dt                                    \n",
       "2019-01-07 6171384064617043520 2790  2019-01-22 00:04:01     3016575      4\n",
       "2019-01-09 4444406782469255273 1320  2018-12-26 15:49:08     3015977      4\n",
       "           4451437494373826323 1160  2018-12-26 15:17:01     3016987      1\n",
       "                               1177  2018-12-26 15:17:52     6033817      2\n",
       "                               1195  2018-12-26 15:21:26     9050221      3\n",
       "...                                                              ...    ...\n",
       "2019-11-29 5656997469620366329 39709 2019-11-22 10:00:10     6037030      8\n",
       "2019-12-02 6761362779808018437 48137 2019-11-28 16:08:25     3017923      4\n",
       "                               48253 2019-11-28 16:48:37     6036384      8\n",
       "2019-12-03 6763228741234674346 48519 2019-12-02 19:24:21     3018492      2\n",
       "                               48523 2019-12-03 13:43:30     6037020      5\n",
       "\n",
       "[273 rows x 2 columns]"
      ]
     },
     "execution_count": 6,
     "metadata": {},
     "output_type": "execute_result"
    }
   ],
   "source": [
    "grouped = df.sort_values(['dt'],ascending=False).groupby(['day', 'executive_id', 'index', 'dt']).first().\\\n",
    "    groupby(level='executive_id').cumsum()\n",
    "\n",
    "grouped = grouped[grouped['hours']<=8]\n",
    "grouped"
   ]
  },
  {
   "cell_type": "markdown",
   "metadata": {},
   "source": [
    "Технические махинации с индексами"
   ]
  },
  {
   "cell_type": "code",
   "execution_count": 7,
   "metadata": {},
   "outputs": [],
   "source": [
    "grouped['temp_index'] = grouped.index"
   ]
  },
  {
   "cell_type": "code",
   "execution_count": 8,
   "metadata": {},
   "outputs": [],
   "source": [
    "grouped = grouped.reset_index(drop=True)"
   ]
  },
  {
   "cell_type": "code",
   "execution_count": 9,
   "metadata": {
    "scrolled": true
   },
   "outputs": [],
   "source": [
    "grouped['day'] = grouped['temp_index'].apply(lambda x: x[0])\n",
    "grouped['executive_id'] = grouped['temp_index'].apply(lambda x: x[1])\n",
    "grouped['index'] = grouped['temp_index'].apply(lambda x: x[2])\n",
    "grouped['dt'] = grouped['temp_index'].apply(lambda x: x[3])"
   ]
  },
  {
   "cell_type": "code",
   "execution_count": 10,
   "metadata": {},
   "outputs": [],
   "source": [
    "del grouped['temp_index']"
   ]
  },
  {
   "cell_type": "code",
   "execution_count": 11,
   "metadata": {},
   "outputs": [],
   "source": [
    "df = grouped"
   ]
  },
  {
   "cell_type": "markdown",
   "metadata": {},
   "source": [
    "После приведения таблицы к исходноми виду конкатинируем с таблицей с нулевыми часами"
   ]
  },
  {
   "cell_type": "code",
   "execution_count": 12,
   "metadata": {},
   "outputs": [],
   "source": [
    "df = pd.concat([df, zero_hours]).reset_index(drop=True)"
   ]
  },
  {
   "cell_type": "markdown",
   "metadata": {},
   "source": [
    "### Поиск не занятых"
   ]
  },
  {
   "cell_type": "markdown",
   "metadata": {},
   "source": [
    "По данным получили что 20 наименее занятых человек не работали"
   ]
  },
  {
   "cell_type": "code",
   "execution_count": 41,
   "metadata": {
    "scrolled": false
   },
   "outputs": [
    {
     "data": {
      "text/plain": [
       "executive_id\n",
       "4451437494373826323    0\n",
       "6462283406460924209    0\n",
       "6465635731514713069    0\n",
       "6470047208388519868    0\n",
       "6495725589490647363    0\n",
       "6497176700026191849    0\n",
       "6509464781848664412    0\n",
       "6509466336626809140    0\n",
       "6532084158393586710    0\n",
       "6532085790481137245    0\n",
       "6535323130670474232    0\n",
       "6548724541030516999    0\n",
       "6564812595168135526    0\n",
       "6573593990812262863    0\n",
       "6574340254264848683    0\n",
       "6574351902216156546    0\n",
       "6598153554408635250    0\n",
       "6616659636479145490    0\n",
       "6616666010210617868    0\n",
       "6621860154679826121    0\n",
       "Name: hours, dtype: int64"
      ]
     },
     "execution_count": 41,
     "metadata": {},
     "output_type": "execute_result"
    }
   ],
   "source": [
    "df[(df['day']>'2019-03-00') & (df['day']<'2019-04-00')].groupby('executive_id')['hours'].sum().sort_values().head(20)"
   ]
  },
  {
   "cell_type": "markdown",
   "metadata": {},
   "source": [
    "Если отбросить не работающих получаем следующий результат"
   ]
  },
  {
   "cell_type": "code",
   "execution_count": 40,
   "metadata": {
    "scrolled": false
   },
   "outputs": [
    {
     "data": {
      "text/plain": [
       "executive_id\n",
       "6667159870535480136     6\n",
       "6660000679744052335    12\n",
       "6665533916176314412    12\n",
       "6668223824129031472    14\n",
       "Name: hours, dtype: int64"
      ]
     },
     "execution_count": 40,
     "metadata": {},
     "output_type": "execute_result"
    }
   ],
   "source": [
    "df[(df['day']>'2019-03-00') & (df['day']<'2019-04-00') & (df['hours']>0)].groupby('executive_id')['hours'].sum().sort_values().head(20)"
   ]
  },
  {
   "cell_type": "markdown",
   "metadata": {},
   "source": [
    "Распределение замых незанятых сотрудников за март"
   ]
  },
  {
   "cell_type": "code",
   "execution_count": 42,
   "metadata": {
    "scrolled": false
   },
   "outputs": [
    {
     "data": {
      "text/plain": [
       "<matplotlib.axes._subplots.AxesSubplot at 0x13e8850>"
      ]
     },
     "execution_count": 42,
     "metadata": {},
     "output_type": "execute_result"
    },
    {
     "data": {
      "image/png": "[encoded data removed]",
      "text/plain": [
       "<Figure size 720x720 with 1 Axes>"
      ]
     },
     "metadata": {
      "needs_background": "light"
     },
     "output_type": "display_data"
    }
   ],
   "source": [
    "df[(df['day']>'2019-03-00') & (df['day']<'2019-04-00') & (df['hours']>0)].groupby('executive_id')['hours'].sum().sort_values().head(20).hist(figsize=[10,10])"
   ]
  },
  {
   "cell_type": "markdown",
   "metadata": {},
   "source": [
    "### Распределение длительностей"
   ]
  },
  {
   "cell_type": "code",
   "execution_count": 14,
   "metadata": {
    "scrolled": false
   },
   "outputs": [
    {
     "data": {
      "text/html": [
       "<div>\n",
       "<style scoped>\n",
       "    .dataframe tbody tr th:only-of-type {\n",
       "        vertical-align: middle;\n",
       "    }\n",
       "\n",
       "    .dataframe tbody tr th {\n",
       "        vertical-align: top;\n",
       "    }\n",
       "\n",
       "    .dataframe thead th {\n",
       "        text-align: right;\n",
       "    }\n",
       "</style>\n",
       "<table border=\"1\" class=\"dataframe\">\n",
       "  <thead>\n",
       "    <tr style=\"text-align: right;\">\n",
       "      <th></th>\n",
       "      <th>stagedproject_id</th>\n",
       "      <th>project_id</th>\n",
       "    </tr>\n",
       "  </thead>\n",
       "  <tbody>\n",
       "    <tr>\n",
       "      <th>0</th>\n",
       "      <td>3017450</td>\n",
       "      <td>6605850621134324876</td>\n",
       "    </tr>\n",
       "    <tr>\n",
       "      <th>1</th>\n",
       "      <td>3017091</td>\n",
       "      <td>6306096057453463865</td>\n",
       "    </tr>\n",
       "    <tr>\n",
       "      <th>2</th>\n",
       "      <td>3017941</td>\n",
       "      <td>6715574820660126218</td>\n",
       "    </tr>\n",
       "    <tr>\n",
       "      <th>3</th>\n",
       "      <td>3018476</td>\n",
       "      <td>6743777328272336527</td>\n",
       "    </tr>\n",
       "    <tr>\n",
       "      <th>4</th>\n",
       "      <td>3017575</td>\n",
       "      <td>6621899346256456096</td>\n",
       "    </tr>\n",
       "    <tr>\n",
       "      <th>...</th>\n",
       "      <td>...</td>\n",
       "      <td>...</td>\n",
       "    </tr>\n",
       "    <tr>\n",
       "      <th>631</th>\n",
       "      <td>3018843</td>\n",
       "      <td>6724954758683154898</td>\n",
       "    </tr>\n",
       "    <tr>\n",
       "      <th>632</th>\n",
       "      <td>3018845</td>\n",
       "      <td>6759504622336998211</td>\n",
       "    </tr>\n",
       "    <tr>\n",
       "      <th>633</th>\n",
       "      <td>3019021</td>\n",
       "      <td>6493056095520455161</td>\n",
       "    </tr>\n",
       "    <tr>\n",
       "      <th>634</th>\n",
       "      <td>3019085</td>\n",
       "      <td>6772721989053447640</td>\n",
       "    </tr>\n",
       "    <tr>\n",
       "      <th>635</th>\n",
       "      <td>3019120</td>\n",
       "      <td>6753425538511135423</td>\n",
       "    </tr>\n",
       "  </tbody>\n",
       "</table>\n",
       "<p>636 rows × 2 columns</p>\n",
       "</div>"
      ],
      "text/plain": [
       "     stagedproject_id           project_id\n",
       "0             3017450  6605850621134324876\n",
       "1             3017091  6306096057453463865\n",
       "2             3017941  6715574820660126218\n",
       "3             3018476  6743777328272336527\n",
       "4             3017575  6621899346256456096\n",
       "..                ...                  ...\n",
       "631           3018843  6724954758683154898\n",
       "632           3018845  6759504622336998211\n",
       "633           3019021  6493056095520455161\n",
       "634           3019085  6772721989053447640\n",
       "635           3019120  6753425538511135423\n",
       "\n",
       "[636 rows x 2 columns]"
      ]
     },
     "execution_count": 14,
     "metadata": {},
     "output_type": "execute_result"
    }
   ],
   "source": [
    "stage_to_project = pd.read_csv('stage_to_project.csv')\n",
    "\n",
    "stage_to_project['project_id'] = stage_to_project['project_id'].astype(str)\n",
    "stage_to_project"
   ]
  },
  {
   "cell_type": "code",
   "execution_count": 15,
   "metadata": {},
   "outputs": [],
   "source": [
    "recolumn = {\n",
    "'project_id':'stagedproject_id'}\n",
    "df = df.rename(columns=recolumn)"
   ]
  },
  {
   "cell_type": "markdown",
   "metadata": {},
   "source": [
    "Делаем join с таблицей stage_to_project"
   ]
  },
  {
   "cell_type": "code",
   "execution_count": 16,
   "metadata": {
    "scrolled": true
   },
   "outputs": [
    {
     "data": {
      "text/html": [
       "<div>\n",
       "<style scoped>\n",
       "    .dataframe tbody tr th:only-of-type {\n",
       "        vertical-align: middle;\n",
       "    }\n",
       "\n",
       "    .dataframe tbody tr th {\n",
       "        vertical-align: top;\n",
       "    }\n",
       "\n",
       "    .dataframe thead th {\n",
       "        text-align: right;\n",
       "    }\n",
       "</style>\n",
       "<table border=\"1\" class=\"dataframe\">\n",
       "  <thead>\n",
       "    <tr style=\"text-align: right;\">\n",
       "      <th></th>\n",
       "      <th>stagedproject_id</th>\n",
       "      <th>hours</th>\n",
       "      <th>day</th>\n",
       "      <th>executive_id</th>\n",
       "      <th>index</th>\n",
       "      <th>dt</th>\n",
       "      <th>project_id</th>\n",
       "    </tr>\n",
       "  </thead>\n",
       "  <tbody>\n",
       "    <tr>\n",
       "      <th>0</th>\n",
       "      <td>3016575</td>\n",
       "      <td>4</td>\n",
       "      <td>2019-01-07</td>\n",
       "      <td>6171384064617043520</td>\n",
       "      <td>2790</td>\n",
       "      <td>2019-01-22 00:04:01</td>\n",
       "      <td>6592653380675954999</td>\n",
       "    </tr>\n",
       "    <tr>\n",
       "      <th>1</th>\n",
       "      <td>3015977</td>\n",
       "      <td>4</td>\n",
       "      <td>2019-01-09</td>\n",
       "      <td>4444406782469255273</td>\n",
       "      <td>1320</td>\n",
       "      <td>2018-12-26 15:49:08</td>\n",
       "      <td>6533170450125787926</td>\n",
       "    </tr>\n",
       "    <tr>\n",
       "      <th>2</th>\n",
       "      <td>3016987</td>\n",
       "      <td>1</td>\n",
       "      <td>2019-01-09</td>\n",
       "      <td>4451437494373826323</td>\n",
       "      <td>1160</td>\n",
       "      <td>2018-12-26 15:17:01</td>\n",
       "      <td>6205066714275747386</td>\n",
       "    </tr>\n",
       "    <tr>\n",
       "      <th>3</th>\n",
       "      <td>6033817</td>\n",
       "      <td>2</td>\n",
       "      <td>2019-01-09</td>\n",
       "      <td>4451437494373826323</td>\n",
       "      <td>1177</td>\n",
       "      <td>2018-12-26 15:17:52</td>\n",
       "      <td>NaN</td>\n",
       "    </tr>\n",
       "    <tr>\n",
       "      <th>4</th>\n",
       "      <td>9050221</td>\n",
       "      <td>3</td>\n",
       "      <td>2019-01-09</td>\n",
       "      <td>4451437494373826323</td>\n",
       "      <td>1195</td>\n",
       "      <td>2018-12-26 15:21:26</td>\n",
       "      <td>NaN</td>\n",
       "    </tr>\n",
       "    <tr>\n",
       "      <th>...</th>\n",
       "      <td>...</td>\n",
       "      <td>...</td>\n",
       "      <td>...</td>\n",
       "      <td>...</td>\n",
       "      <td>...</td>\n",
       "      <td>...</td>\n",
       "      <td>...</td>\n",
       "    </tr>\n",
       "    <tr>\n",
       "      <th>8134</th>\n",
       "      <td>3018636</td>\n",
       "      <td>0</td>\n",
       "      <td>2019-12-25</td>\n",
       "      <td>5625394194018276490</td>\n",
       "      <td>48979</td>\n",
       "      <td>2019-12-23 14:53:48</td>\n",
       "      <td>6751941193518626307</td>\n",
       "    </tr>\n",
       "    <tr>\n",
       "      <th>8135</th>\n",
       "      <td>3018023</td>\n",
       "      <td>0</td>\n",
       "      <td>2019-12-25</td>\n",
       "      <td>6592211557348891850</td>\n",
       "      <td>48983</td>\n",
       "      <td>2019-12-20 18:27:53</td>\n",
       "      <td>6724954793090029293</td>\n",
       "    </tr>\n",
       "    <tr>\n",
       "      <th>8136</th>\n",
       "      <td>3018588</td>\n",
       "      <td>0</td>\n",
       "      <td>2019-12-21</td>\n",
       "      <td>5142434179669108227</td>\n",
       "      <td>48984</td>\n",
       "      <td>2019-12-20 19:11:06</td>\n",
       "      <td>6750456844231230080</td>\n",
       "    </tr>\n",
       "    <tr>\n",
       "      <th>8137</th>\n",
       "      <td>424242421574879261</td>\n",
       "      <td>0</td>\n",
       "      <td>2019-12-22</td>\n",
       "      <td>6673476813945120255</td>\n",
       "      <td>49025</td>\n",
       "      <td>2019-12-23 18:46:28</td>\n",
       "      <td>NaN</td>\n",
       "    </tr>\n",
       "    <tr>\n",
       "      <th>8138</th>\n",
       "      <td>3019120</td>\n",
       "      <td>0</td>\n",
       "      <td>2019-12-28</td>\n",
       "      <td>6673476813945120255</td>\n",
       "      <td>49034</td>\n",
       "      <td>2019-12-24 22:20:21</td>\n",
       "      <td>6753425538511135423</td>\n",
       "    </tr>\n",
       "  </tbody>\n",
       "</table>\n",
       "<p>8139 rows × 7 columns</p>\n",
       "</div>"
      ],
      "text/plain": [
       "        stagedproject_id  hours         day         executive_id  index  \\\n",
       "0                3016575      4  2019-01-07  6171384064617043520   2790   \n",
       "1                3015977      4  2019-01-09  4444406782469255273   1320   \n",
       "2                3016987      1  2019-01-09  4451437494373826323   1160   \n",
       "3                6033817      2  2019-01-09  4451437494373826323   1177   \n",
       "4                9050221      3  2019-01-09  4451437494373826323   1195   \n",
       "...                  ...    ...         ...                  ...    ...   \n",
       "8134             3018636      0  2019-12-25  5625394194018276490  48979   \n",
       "8135             3018023      0  2019-12-25  6592211557348891850  48983   \n",
       "8136             3018588      0  2019-12-21  5142434179669108227  48984   \n",
       "8137  424242421574879261      0  2019-12-22  6673476813945120255  49025   \n",
       "8138             3019120      0  2019-12-28  6673476813945120255  49034   \n",
       "\n",
       "                      dt           project_id  \n",
       "0    2019-01-22 00:04:01  6592653380675954999  \n",
       "1    2018-12-26 15:49:08  6533170450125787926  \n",
       "2    2018-12-26 15:17:01  6205066714275747386  \n",
       "3    2018-12-26 15:17:52                  NaN  \n",
       "4    2018-12-26 15:21:26                  NaN  \n",
       "...                  ...                  ...  \n",
       "8134 2019-12-23 14:53:48  6751941193518626307  \n",
       "8135 2019-12-20 18:27:53  6724954793090029293  \n",
       "8136 2019-12-20 19:11:06  6750456844231230080  \n",
       "8137 2019-12-23 18:46:28                  NaN  \n",
       "8138 2019-12-24 22:20:21  6753425538511135423  \n",
       "\n",
       "[8139 rows x 7 columns]"
      ]
     },
     "execution_count": 16,
     "metadata": {},
     "output_type": "execute_result"
    }
   ],
   "source": [
    "joined = df.merge(stage_to_project, how='left', on='stagedproject_id')\n",
    "joined"
   ]
  },
  {
   "cell_type": "markdown",
   "metadata": {},
   "source": [
    "Необходимо устранить оставшиеся значения NaN. Для этого разбиваю таблицу на две с Nan и без NaN. затем в той что без Nan заполняю Nan из столбца c id проекта "
   ]
  },
  {
   "cell_type": "code",
   "execution_count": 17,
   "metadata": {},
   "outputs": [],
   "source": [
    "joined_not_nan = joined[~(joined['project_id'].isna())]"
   ]
  },
  {
   "cell_type": "code",
   "execution_count": 18,
   "metadata": {
    "scrolled": true
   },
   "outputs": [
    {
     "name": "stderr",
     "output_type": "stream",
     "text": [
      "c:\\users\\ilkol\\appdata\\local\\programs\\python\\python37-32\\lib\\site-packages\\ipykernel_launcher.py:2: SettingWithCopyWarning: \n",
      "A value is trying to be set on a copy of a slice from a DataFrame.\n",
      "Try using .loc[row_indexer,col_indexer] = value instead\n",
      "\n",
      "See the caveats in the documentation: https://pandas.pydata.org/pandas-docs/stable/user_guide/indexing.html#returning-a-view-versus-a-copy\n",
      "  \n"
     ]
    }
   ],
   "source": [
    "joined_nan = joined[joined['project_id'].isna()]\n",
    "joined_nan['project_id']  = joined_nan['stagedproject_id']"
   ]
  },
  {
   "cell_type": "code",
   "execution_count": 19,
   "metadata": {
    "scrolled": false
   },
   "outputs": [
    {
     "data": {
      "text/html": [
       "<div>\n",
       "<style scoped>\n",
       "    .dataframe tbody tr th:only-of-type {\n",
       "        vertical-align: middle;\n",
       "    }\n",
       "\n",
       "    .dataframe tbody tr th {\n",
       "        vertical-align: top;\n",
       "    }\n",
       "\n",
       "    .dataframe thead th {\n",
       "        text-align: right;\n",
       "    }\n",
       "</style>\n",
       "<table border=\"1\" class=\"dataframe\">\n",
       "  <thead>\n",
       "    <tr style=\"text-align: right;\">\n",
       "      <th></th>\n",
       "      <th>stagedproject_id</th>\n",
       "      <th>hours</th>\n",
       "      <th>day</th>\n",
       "      <th>executive_id</th>\n",
       "      <th>index</th>\n",
       "      <th>dt</th>\n",
       "      <th>project_id</th>\n",
       "    </tr>\n",
       "  </thead>\n",
       "  <tbody>\n",
       "    <tr>\n",
       "      <th>0</th>\n",
       "      <td>3016575</td>\n",
       "      <td>4</td>\n",
       "      <td>2019-01-07</td>\n",
       "      <td>6171384064617043520</td>\n",
       "      <td>2790</td>\n",
       "      <td>2019-01-22 00:04:01</td>\n",
       "      <td>6592653380675954999</td>\n",
       "    </tr>\n",
       "    <tr>\n",
       "      <th>1</th>\n",
       "      <td>3015977</td>\n",
       "      <td>4</td>\n",
       "      <td>2019-01-09</td>\n",
       "      <td>4444406782469255273</td>\n",
       "      <td>1320</td>\n",
       "      <td>2018-12-26 15:49:08</td>\n",
       "      <td>6533170450125787926</td>\n",
       "    </tr>\n",
       "    <tr>\n",
       "      <th>2</th>\n",
       "      <td>3016987</td>\n",
       "      <td>1</td>\n",
       "      <td>2019-01-09</td>\n",
       "      <td>4451437494373826323</td>\n",
       "      <td>1160</td>\n",
       "      <td>2018-12-26 15:17:01</td>\n",
       "      <td>6205066714275747386</td>\n",
       "    </tr>\n",
       "    <tr>\n",
       "      <th>3</th>\n",
       "      <td>3016541</td>\n",
       "      <td>3</td>\n",
       "      <td>2019-01-09</td>\n",
       "      <td>4769141486593889576</td>\n",
       "      <td>1814</td>\n",
       "      <td>2018-12-27 20:21:47</td>\n",
       "      <td>6590055775824106125</td>\n",
       "    </tr>\n",
       "    <tr>\n",
       "      <th>4</th>\n",
       "      <td>3016665</td>\n",
       "      <td>2</td>\n",
       "      <td>2019-01-09</td>\n",
       "      <td>4782353183953487778</td>\n",
       "      <td>1220</td>\n",
       "      <td>2018-12-26 15:23:43</td>\n",
       "      <td>6600817258768781166</td>\n",
       "    </tr>\n",
       "    <tr>\n",
       "      <th>...</th>\n",
       "      <td>...</td>\n",
       "      <td>...</td>\n",
       "      <td>...</td>\n",
       "      <td>...</td>\n",
       "      <td>...</td>\n",
       "      <td>...</td>\n",
       "      <td>...</td>\n",
       "    </tr>\n",
       "    <tr>\n",
       "      <th>8134</th>\n",
       "      <td>5852176997052179571</td>\n",
       "      <td>0</td>\n",
       "      <td>2019-12-24</td>\n",
       "      <td>6646314229584445092</td>\n",
       "      <td>48886</td>\n",
       "      <td>2019-12-18 17:10:55</td>\n",
       "      <td>5852176997052179571</td>\n",
       "    </tr>\n",
       "    <tr>\n",
       "      <th>8135</th>\n",
       "      <td>5852176997052179571</td>\n",
       "      <td>0</td>\n",
       "      <td>2019-12-26</td>\n",
       "      <td>6646314229584445092</td>\n",
       "      <td>48888</td>\n",
       "      <td>2019-12-18 17:10:55</td>\n",
       "      <td>5852176997052179571</td>\n",
       "    </tr>\n",
       "    <tr>\n",
       "      <th>8136</th>\n",
       "      <td>5852176997052179571</td>\n",
       "      <td>0</td>\n",
       "      <td>2019-12-28</td>\n",
       "      <td>6646314229584445092</td>\n",
       "      <td>48904</td>\n",
       "      <td>2019-12-18 17:10:55</td>\n",
       "      <td>5852176997052179571</td>\n",
       "    </tr>\n",
       "    <tr>\n",
       "      <th>8137</th>\n",
       "      <td>4444406835586699375</td>\n",
       "      <td>0</td>\n",
       "      <td>2019-12-21</td>\n",
       "      <td>6600962523149708344</td>\n",
       "      <td>48905</td>\n",
       "      <td>2019-12-18 17:11:56</td>\n",
       "      <td>4444406835586699375</td>\n",
       "    </tr>\n",
       "    <tr>\n",
       "      <th>8138</th>\n",
       "      <td>424242421574879261</td>\n",
       "      <td>0</td>\n",
       "      <td>2019-12-22</td>\n",
       "      <td>6673476813945120255</td>\n",
       "      <td>49025</td>\n",
       "      <td>2019-12-23 18:46:28</td>\n",
       "      <td>424242421574879261</td>\n",
       "    </tr>\n",
       "  </tbody>\n",
       "</table>\n",
       "<p>8139 rows × 7 columns</p>\n",
       "</div>"
      ],
      "text/plain": [
       "         stagedproject_id  hours         day         executive_id  index  \\\n",
       "0                 3016575      4  2019-01-07  6171384064617043520   2790   \n",
       "1                 3015977      4  2019-01-09  4444406782469255273   1320   \n",
       "2                 3016987      1  2019-01-09  4451437494373826323   1160   \n",
       "3                 3016541      3  2019-01-09  4769141486593889576   1814   \n",
       "4                 3016665      2  2019-01-09  4782353183953487778   1220   \n",
       "...                   ...    ...         ...                  ...    ...   \n",
       "8134  5852176997052179571      0  2019-12-24  6646314229584445092  48886   \n",
       "8135  5852176997052179571      0  2019-12-26  6646314229584445092  48888   \n",
       "8136  5852176997052179571      0  2019-12-28  6646314229584445092  48904   \n",
       "8137  4444406835586699375      0  2019-12-21  6600962523149708344  48905   \n",
       "8138   424242421574879261      0  2019-12-22  6673476813945120255  49025   \n",
       "\n",
       "                      dt           project_id  \n",
       "0    2019-01-22 00:04:01  6592653380675954999  \n",
       "1    2018-12-26 15:49:08  6533170450125787926  \n",
       "2    2018-12-26 15:17:01  6205066714275747386  \n",
       "3    2018-12-27 20:21:47  6590055775824106125  \n",
       "4    2018-12-26 15:23:43  6600817258768781166  \n",
       "...                  ...                  ...  \n",
       "8134 2019-12-18 17:10:55  5852176997052179571  \n",
       "8135 2019-12-18 17:10:55  5852176997052179571  \n",
       "8136 2019-12-18 17:10:55  5852176997052179571  \n",
       "8137 2019-12-18 17:11:56  4444406835586699375  \n",
       "8138 2019-12-23 18:46:28   424242421574879261  \n",
       "\n",
       "[8139 rows x 7 columns]"
      ]
     },
     "execution_count": 19,
     "metadata": {},
     "output_type": "execute_result"
    }
   ],
   "source": [
    "joined = pd.concat([joined_not_nan, joined_nan]).reset_index(drop=True)\n",
    "joined"
   ]
  },
  {
   "cell_type": "markdown",
   "metadata": {},
   "source": [
    "Строим гистограмы распределений\n",
    "\n",
    "Видно что нулевые часы и тут дают о себе знать \n",
    "\n",
    "поэтому на втором графике я решил их устранить из рассмотрения"
   ]
  },
  {
   "cell_type": "code",
   "execution_count": 21,
   "metadata": {
    "scrolled": false
   },
   "outputs": [
    {
     "data": {
      "text/plain": [
       "<matplotlib.axes._subplots.AxesSubplot at 0x9abf170>"
      ]
     },
     "execution_count": 21,
     "metadata": {},
     "output_type": "execute_result"
    },
    {
     "data": {
      "image/png": "[encoded data removed]",
      "text/plain": [
       "<Figure size 720x720 with 1 Axes>"
      ]
     },
     "metadata": {
      "needs_background": "light"
     },
     "output_type": "display_data"
    }
   ],
   "source": [
    "joined.groupby('project_id').hours.sum().hist(bins = 30, figsize=[10,10])"
   ]
  },
  {
   "cell_type": "code",
   "execution_count": 22,
   "metadata": {
    "scrolled": false
   },
   "outputs": [
    {
     "data": {
      "text/plain": [
       "<matplotlib.axes._subplots.AxesSubplot at 0x9d13590>"
      ]
     },
     "execution_count": 22,
     "metadata": {},
     "output_type": "execute_result"
    },
    {
     "data": {
      "image/png": "[encoded data removed]",
      "text/plain": [
       "<Figure size 720x720 with 1 Axes>"
      ]
     },
     "metadata": {
      "needs_background": "light"
     },
     "output_type": "display_data"
    }
   ],
   "source": [
    "joined[(joined['hours'] != 0)].groupby('project_id').hours.sum().hist(bins = 30, figsize=[10,10])"
   ]
  },
  {
   "cell_type": "markdown",
   "metadata": {},
   "source": [
    "### Определение недоработки сотрудников до максимума"
   ]
  },
  {
   "cell_type": "code",
   "execution_count": 23,
   "metadata": {
    "scrolled": false
   },
   "outputs": [
    {
     "data": {
      "text/html": [
       "<div>\n",
       "<style scoped>\n",
       "    .dataframe tbody tr th:only-of-type {\n",
       "        vertical-align: middle;\n",
       "    }\n",
       "\n",
       "    .dataframe tbody tr th {\n",
       "        vertical-align: top;\n",
       "    }\n",
       "\n",
       "    .dataframe thead th {\n",
       "        text-align: right;\n",
       "    }\n",
       "</style>\n",
       "<table border=\"1\" class=\"dataframe\">\n",
       "  <thead>\n",
       "    <tr style=\"text-align: right;\">\n",
       "      <th></th>\n",
       "      <th>executive_id</th>\n",
       "      <th>spec</th>\n",
       "    </tr>\n",
       "  </thead>\n",
       "  <tbody>\n",
       "    <tr>\n",
       "      <th>0</th>\n",
       "      <td>4444406782469255273</td>\n",
       "      <td>технолог</td>\n",
       "    </tr>\n",
       "    <tr>\n",
       "      <th>1</th>\n",
       "      <td>4451437494373826323</td>\n",
       "      <td>бета-тестер</td>\n",
       "    </tr>\n",
       "    <tr>\n",
       "      <th>2</th>\n",
       "      <td>4638737517754019940</td>\n",
       "      <td>иллюстратор</td>\n",
       "    </tr>\n",
       "    <tr>\n",
       "      <th>3</th>\n",
       "      <td>4769141486593889576</td>\n",
       "      <td>дизайнер</td>\n",
       "    </tr>\n",
       "    <tr>\n",
       "      <th>4</th>\n",
       "      <td>4782353183953487778</td>\n",
       "      <td>редактор</td>\n",
       "    </tr>\n",
       "    <tr>\n",
       "      <th>...</th>\n",
       "      <td>...</td>\n",
       "      <td>...</td>\n",
       "    </tr>\n",
       "    <tr>\n",
       "      <th>115</th>\n",
       "      <td>6746482912855683709</td>\n",
       "      <td>архитектор</td>\n",
       "    </tr>\n",
       "    <tr>\n",
       "      <th>116</th>\n",
       "      <td>6740908036715540070</td>\n",
       "      <td>дизайнер</td>\n",
       "    </tr>\n",
       "    <tr>\n",
       "      <th>117</th>\n",
       "      <td>6749122363532595439</td>\n",
       "      <td>технолог</td>\n",
       "    </tr>\n",
       "    <tr>\n",
       "      <th>118</th>\n",
       "      <td>6761362779808018437</td>\n",
       "      <td>дизайнер</td>\n",
       "    </tr>\n",
       "    <tr>\n",
       "      <th>119</th>\n",
       "      <td>6763228741234674346</td>\n",
       "      <td>дизайнер</td>\n",
       "    </tr>\n",
       "  </tbody>\n",
       "</table>\n",
       "<p>120 rows × 2 columns</p>\n",
       "</div>"
      ],
      "text/plain": [
       "            executive_id         spec\n",
       "0    4444406782469255273     технолог\n",
       "1    4451437494373826323  бета-тестер\n",
       "2    4638737517754019940  иллюстратор\n",
       "3    4769141486593889576     дизайнер\n",
       "4    4782353183953487778     редактор\n",
       "..                   ...          ...\n",
       "115  6746482912855683709   архитектор\n",
       "116  6740908036715540070     дизайнер\n",
       "117  6749122363532595439     технолог\n",
       "118  6761362779808018437     дизайнер\n",
       "119  6763228741234674346     дизайнер\n",
       "\n",
       "[120 rows x 2 columns]"
      ]
     },
     "execution_count": 23,
     "metadata": {},
     "output_type": "execute_result"
    }
   ],
   "source": [
    "executive_to_spec = pd.read_csv('executive_to_spec.csv')\n",
    "executive_to_spec"
   ]
  },
  {
   "cell_type": "markdown",
   "metadata": {},
   "source": [
    "Джойним специальность"
   ]
  },
  {
   "cell_type": "code",
   "execution_count": 79,
   "metadata": {
    "scrolled": false
   },
   "outputs": [
    {
     "data": {
      "text/html": [
       "<div>\n",
       "<style scoped>\n",
       "    .dataframe tbody tr th:only-of-type {\n",
       "        vertical-align: middle;\n",
       "    }\n",
       "\n",
       "    .dataframe tbody tr th {\n",
       "        vertical-align: top;\n",
       "    }\n",
       "\n",
       "    .dataframe thead th {\n",
       "        text-align: right;\n",
       "    }\n",
       "</style>\n",
       "<table border=\"1\" class=\"dataframe\">\n",
       "  <thead>\n",
       "    <tr style=\"text-align: right;\">\n",
       "      <th></th>\n",
       "      <th>stagedproject_id</th>\n",
       "      <th>hours</th>\n",
       "      <th>day</th>\n",
       "      <th>executive_id</th>\n",
       "      <th>index</th>\n",
       "      <th>dt</th>\n",
       "      <th>spec</th>\n",
       "    </tr>\n",
       "  </thead>\n",
       "  <tbody>\n",
       "    <tr>\n",
       "      <th>0</th>\n",
       "      <td>3016575</td>\n",
       "      <td>4</td>\n",
       "      <td>2019-01-07</td>\n",
       "      <td>6171384064617043520</td>\n",
       "      <td>2790</td>\n",
       "      <td>2019-01-22 00:04:01</td>\n",
       "      <td>дизайнер</td>\n",
       "    </tr>\n",
       "    <tr>\n",
       "      <th>1</th>\n",
       "      <td>3015977</td>\n",
       "      <td>4</td>\n",
       "      <td>2019-01-09</td>\n",
       "      <td>4444406782469255273</td>\n",
       "      <td>1320</td>\n",
       "      <td>2018-12-26 15:49:08</td>\n",
       "      <td>технолог</td>\n",
       "    </tr>\n",
       "    <tr>\n",
       "      <th>2</th>\n",
       "      <td>3016987</td>\n",
       "      <td>1</td>\n",
       "      <td>2019-01-09</td>\n",
       "      <td>4451437494373826323</td>\n",
       "      <td>1160</td>\n",
       "      <td>2018-12-26 15:17:01</td>\n",
       "      <td>бета-тестер</td>\n",
       "    </tr>\n",
       "    <tr>\n",
       "      <th>3</th>\n",
       "      <td>6033817</td>\n",
       "      <td>2</td>\n",
       "      <td>2019-01-09</td>\n",
       "      <td>4451437494373826323</td>\n",
       "      <td>1177</td>\n",
       "      <td>2018-12-26 15:17:52</td>\n",
       "      <td>бета-тестер</td>\n",
       "    </tr>\n",
       "    <tr>\n",
       "      <th>4</th>\n",
       "      <td>9050221</td>\n",
       "      <td>3</td>\n",
       "      <td>2019-01-09</td>\n",
       "      <td>4451437494373826323</td>\n",
       "      <td>1195</td>\n",
       "      <td>2018-12-26 15:21:26</td>\n",
       "      <td>бета-тестер</td>\n",
       "    </tr>\n",
       "    <tr>\n",
       "      <th>...</th>\n",
       "      <td>...</td>\n",
       "      <td>...</td>\n",
       "      <td>...</td>\n",
       "      <td>...</td>\n",
       "      <td>...</td>\n",
       "      <td>...</td>\n",
       "      <td>...</td>\n",
       "    </tr>\n",
       "    <tr>\n",
       "      <th>8134</th>\n",
       "      <td>3018636</td>\n",
       "      <td>0</td>\n",
       "      <td>2019-12-25</td>\n",
       "      <td>5625394194018276490</td>\n",
       "      <td>48979</td>\n",
       "      <td>2019-12-23 14:53:48</td>\n",
       "      <td>верстальщик</td>\n",
       "    </tr>\n",
       "    <tr>\n",
       "      <th>8135</th>\n",
       "      <td>3018023</td>\n",
       "      <td>0</td>\n",
       "      <td>2019-12-25</td>\n",
       "      <td>6592211557348891850</td>\n",
       "      <td>48983</td>\n",
       "      <td>2019-12-20 18:27:53</td>\n",
       "      <td>дизайнер</td>\n",
       "    </tr>\n",
       "    <tr>\n",
       "      <th>8136</th>\n",
       "      <td>3018588</td>\n",
       "      <td>0</td>\n",
       "      <td>2019-12-21</td>\n",
       "      <td>5142434179669108227</td>\n",
       "      <td>48984</td>\n",
       "      <td>2019-12-20 19:11:06</td>\n",
       "      <td>верстальщик</td>\n",
       "    </tr>\n",
       "    <tr>\n",
       "      <th>8137</th>\n",
       "      <td>424242421574879261</td>\n",
       "      <td>0</td>\n",
       "      <td>2019-12-22</td>\n",
       "      <td>6673476813945120255</td>\n",
       "      <td>49025</td>\n",
       "      <td>2019-12-23 18:46:28</td>\n",
       "      <td>дизайнер</td>\n",
       "    </tr>\n",
       "    <tr>\n",
       "      <th>8138</th>\n",
       "      <td>3019120</td>\n",
       "      <td>0</td>\n",
       "      <td>2019-12-28</td>\n",
       "      <td>6673476813945120255</td>\n",
       "      <td>49034</td>\n",
       "      <td>2019-12-24 22:20:21</td>\n",
       "      <td>дизайнер</td>\n",
       "    </tr>\n",
       "  </tbody>\n",
       "</table>\n",
       "<p>8139 rows × 7 columns</p>\n",
       "</div>"
      ],
      "text/plain": [
       "        stagedproject_id  hours         day         executive_id  index  \\\n",
       "0                3016575      4  2019-01-07  6171384064617043520   2790   \n",
       "1                3015977      4  2019-01-09  4444406782469255273   1320   \n",
       "2                3016987      1  2019-01-09  4451437494373826323   1160   \n",
       "3                6033817      2  2019-01-09  4451437494373826323   1177   \n",
       "4                9050221      3  2019-01-09  4451437494373826323   1195   \n",
       "...                  ...    ...         ...                  ...    ...   \n",
       "8134             3018636      0  2019-12-25  5625394194018276490  48979   \n",
       "8135             3018023      0  2019-12-25  6592211557348891850  48983   \n",
       "8136             3018588      0  2019-12-21  5142434179669108227  48984   \n",
       "8137  424242421574879261      0  2019-12-22  6673476813945120255  49025   \n",
       "8138             3019120      0  2019-12-28  6673476813945120255  49034   \n",
       "\n",
       "                      dt         spec  \n",
       "0    2019-01-22 00:04:01     дизайнер  \n",
       "1    2018-12-26 15:49:08     технолог  \n",
       "2    2018-12-26 15:17:01  бета-тестер  \n",
       "3    2018-12-26 15:17:52  бета-тестер  \n",
       "4    2018-12-26 15:21:26  бета-тестер  \n",
       "...                  ...          ...  \n",
       "8134 2019-12-23 14:53:48  верстальщик  \n",
       "8135 2019-12-20 18:27:53     дизайнер  \n",
       "8136 2019-12-20 19:11:06  верстальщик  \n",
       "8137 2019-12-23 18:46:28     дизайнер  \n",
       "8138 2019-12-24 22:20:21     дизайнер  \n",
       "\n",
       "[8139 rows x 7 columns]"
      ]
     },
     "execution_count": 79,
     "metadata": {},
     "output_type": "execute_result"
    }
   ],
   "source": [
    "spec_df = df.merge(executive_to_spec, how='left', on='executive_id')\n",
    "spec_df['executive_id'] = spec_df['executive_id'].astype(str)\n",
    "spec_df"
   ]
  },
  {
   "cell_type": "code",
   "execution_count": 80,
   "metadata": {},
   "outputs": [],
   "source": [
    "spec_df  = spec_df[(spec_df['day']>'2019-00-00') & (spec_df['day']<'2020-00-00')]"
   ]
  },
  {
   "cell_type": "markdown",
   "metadata": {},
   "source": [
    "Фильтруем по специальности, группируем по сотруднику, сортируем и находим отклонение от максимума. Видно что кому-то долеко до максимума кому-то нет. Можно понять кому и на сколько. У технологов разница от максимума в среднем менее значительна.  "
   ]
  },
  {
   "cell_type": "code",
   "execution_count": 88,
   "metadata": {
    "scrolled": false
   },
   "outputs": [
    {
     "data": {
      "text/plain": [
       "<matplotlib.axes._subplots.AxesSubplot at 0x8b1da10>"
      ]
     },
     "execution_count": 88,
     "metadata": {},
     "output_type": "execute_result"
    },
    {
     "data": {
      "image/png": "[encoded data removed]",
      "text/plain": [
       "<Figure size 432x288 with 1 Axes>"
      ]
     },
     "metadata": {
      "needs_background": "light"
     },
     "output_type": "display_data"
    }
   ],
   "source": [
    "max_ = spec_df[spec_df['spec'] == 'дизайнер'].groupby(['executive_id']).hours.sum().max()\n",
    "dif = spec_df[spec_df['spec'] == 'дизайнер'].groupby(['executive_id']).hours.sum().sort_values() - max_\n",
    "dif.plot.area()"
   ]
  },
  {
   "cell_type": "code",
   "execution_count": 87,
   "metadata": {
    "scrolled": true
   },
   "outputs": [
    {
     "data": {
      "text/plain": [
       "<matplotlib.axes._subplots.AxesSubplot at 0x8ae0090>"
      ]
     },
     "execution_count": 87,
     "metadata": {},
     "output_type": "execute_result"
    },
    {
     "data": {
      "image/png": "[encoded data removed]",
      "text/plain": [
       "<Figure size 432x288 with 1 Axes>"
      ]
     },
     "metadata": {
      "needs_background": "light"
     },
     "output_type": "display_data"
    }
   ],
   "source": [
    "max_ = spec_df[spec_df['spec'] == 'технолог'].groupby(['executive_id']).hours.sum().max()\n",
    "dif = spec_df[spec_df['spec'] == 'технолог'].groupby(['executive_id']).hours.sum().sort_values() - max_\n",
    "dif.plot.area()"
   ]
  },
  {
   "cell_type": "code",
   "execution_count": 90,
   "metadata": {},
   "outputs": [
    {
     "data": {
      "text/plain": [
       "<matplotlib.axes._subplots.AxesSubplot at 0x18f83f0>"
      ]
     },
     "execution_count": 90,
     "metadata": {},
     "output_type": "execute_result"
    },
    {
     "data": {
      "image/png": "[encoded data removed]",
      "text/plain": [
       "<Figure size 432x288 with 1 Axes>"
      ]
     },
     "metadata": {
      "needs_background": "light"
     },
     "output_type": "display_data"
    }
   ],
   "source": [
    "max_ = spec_df.groupby(['executive_id']).hours.sum().max()\n",
    "dif = spec_df.groupby(['executive_id']).hours.sum().sort_values() - max_\n",
    "dif.plot.area()"
   ]
  }
 ],
 "metadata": {
  "kernelspec": {
   "display_name": "Python 3",
   "language": "python",
   "name": "python3"
  },
  "language_info": {
   "codemirror_mode": {
    "name": "ipython",
    "version": 3
   },
   "file_extension": ".py",
   "mimetype": "text/x-python",
   "name": "python",
   "nbconvert_exporter": "python",
   "pygments_lexer": "ipython3",
   "version": "3.7.2"
  }
 },
 "nbformat": 4,
 "nbformat_minor": 2
}
